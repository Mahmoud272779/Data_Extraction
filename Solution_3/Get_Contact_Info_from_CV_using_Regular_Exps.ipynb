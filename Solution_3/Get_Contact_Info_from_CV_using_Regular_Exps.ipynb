{
  "nbformat": 4,
  "nbformat_minor": 0,
  "metadata": {
    "colab": {
      "provenance": []
    },
    "kernelspec": {
      "name": "python3",
      "display_name": "Python 3"
    },
    "language_info": {
      "name": "python"
    }
  },
  "cells": [
    {
      "cell_type": "code",
      "execution_count": 6,
      "metadata": {
        "colab": {
          "base_uri": "https://localhost:8080/"
        },
        "id": "wSCvw-Ow39SH",
        "outputId": "980acdbc-f1a6-48e9-a6b8-3e54021c8da6"
      },
      "outputs": [
        {
          "output_type": "stream",
          "name": "stdout",
          "text": [
            "Collecting faker\n",
            "  Downloading Faker-20.1.0-py3-none-any.whl (1.7 MB)\n",
            "\u001b[?25l     \u001b[90m━━━━━━━━━━━━━━━━━━━━━━━━━━━━━━━━━━━━━━━━\u001b[0m \u001b[32m0.0/1.7 MB\u001b[0m \u001b[31m?\u001b[0m eta \u001b[36m-:--:--\u001b[0m\r\u001b[2K     \u001b[91m━━━\u001b[0m\u001b[90m╺\u001b[0m\u001b[90m━━━━━━━━━━━━━━━━━━━━━━━━━━━━━━━━━━━━\u001b[0m \u001b[32m0.1/1.7 MB\u001b[0m \u001b[31m3.8 MB/s\u001b[0m eta \u001b[36m0:00:01\u001b[0m\r\u001b[2K     \u001b[91m━━━━━━━━━━━━━━━━━━━━━━━━━━━━━━\u001b[0m\u001b[90m╺\u001b[0m\u001b[90m━━━━━━━━━\u001b[0m \u001b[32m1.3/1.7 MB\u001b[0m \u001b[31m19.2 MB/s\u001b[0m eta \u001b[36m0:00:01\u001b[0m\r\u001b[2K     \u001b[90m━━━━━━━━━━━━━━━━━━━━━━━━━━━━━━━━━━━━━━━━\u001b[0m \u001b[32m1.7/1.7 MB\u001b[0m \u001b[31m20.3 MB/s\u001b[0m eta \u001b[36m0:00:00\u001b[0m\n",
            "\u001b[?25hRequirement already satisfied: python-dateutil>=2.4 in /usr/local/lib/python3.10/dist-packages (from faker) (2.8.2)\n",
            "Requirement already satisfied: six>=1.5 in /usr/local/lib/python3.10/dist-packages (from python-dateutil>=2.4->faker) (1.16.0)\n",
            "Installing collected packages: faker\n",
            "Successfully installed faker-20.1.0\n",
            "Collecting reportlab\n",
            "  Downloading reportlab-4.0.7-py3-none-any.whl (1.9 MB)\n",
            "\u001b[2K     \u001b[90m━━━━━━━━━━━━━━━━━━━━━━━━━━━━━━━━━━━━━━━━\u001b[0m \u001b[32m1.9/1.9 MB\u001b[0m \u001b[31m23.6 MB/s\u001b[0m eta \u001b[36m0:00:00\u001b[0m\n",
            "\u001b[?25hRequirement already satisfied: pillow>=9.0.0 in /usr/local/lib/python3.10/dist-packages (from reportlab) (9.4.0)\n",
            "Installing collected packages: reportlab\n",
            "Successfully installed reportlab-4.0.7\n",
            "Collecting PyMuPDF\n",
            "  Downloading PyMuPDF-1.23.6-cp310-none-manylinux2014_x86_64.whl (4.3 MB)\n",
            "\u001b[2K     \u001b[90m━━━━━━━━━━━━━━━━━━━━━━━━━━━━━━━━━━━━━━━━\u001b[0m \u001b[32m4.3/4.3 MB\u001b[0m \u001b[31m38.0 MB/s\u001b[0m eta \u001b[36m0:00:00\u001b[0m\n",
            "\u001b[?25hCollecting PyMuPDFb==1.23.6 (from PyMuPDF)\n",
            "  Downloading PyMuPDFb-1.23.6-py3-none-manylinux2014_x86_64.manylinux_2_17_x86_64.whl (30.6 MB)\n",
            "\u001b[2K     \u001b[90m━━━━━━━━━━━━━━━━━━━━━━━━━━━━━━━━━━━━━━━━\u001b[0m \u001b[32m30.6/30.6 MB\u001b[0m \u001b[31m53.0 MB/s\u001b[0m eta \u001b[36m0:00:00\u001b[0m\n",
            "\u001b[?25hInstalling collected packages: PyMuPDFb, PyMuPDF\n",
            "Successfully installed PyMuPDF-1.23.6 PyMuPDFb-1.23.6\n"
          ]
        }
      ],
      "source": [
        "!pip install faker\n",
        "!pip install reportlab\n",
        "!pip install PyMuPDF"
      ]
    },
    {
      "cell_type": "code",
      "source": [
        "import re\n",
        "import fitz\n",
        "\n",
        "def extract_full_name(text):\n",
        "    name_match = re.search(r\"([\\w'-]+ [\\w'-]+)\", text)\n",
        "    return name_match.group(0) if name_match else None\n",
        "\n",
        "def extract_phone_number(text):\n",
        "    phone_match = re.search(r\"(?:(?:Phone|Tel)[:\\s]*[\\n]+)?(\\+?\\d+\\s*\\d+\\s*\\d+\\s*\\d+\\s*\\d+)\", text)\n",
        "    return phone_match.group(1) if phone_match else None\n",
        "\n",
        "def extract_email(text):\n",
        "    email_match = re.search(r\"([a-zA-Z0-9._%+-]+@[a-zA-Z0-9.-]+\\.[a-zA-Z]{2,})\", text)\n",
        "    return email_match.group(0) if email_match else None\n",
        "\n",
        "def extract_information_from_resume(pdf_path):\n",
        "    doc = fitz.open(pdf_path)\n",
        "    resume_text = \"\"\n",
        "\n",
        "    for page_num in range(doc.page_count):\n",
        "        page = doc[page_num]\n",
        "        resume_text += page.get_text()\n",
        "\n",
        "    full_name = extract_full_name(resume_text)\n",
        "    phone_number = extract_phone_number(resume_text)\n",
        "    email_address = extract_email(resume_text)\n",
        "\n",
        "    return {\"Full Name\": full_name, \"Phone Number\": phone_number, \"Email Address\": email_address}\n",
        "\n",
        "\n",
        "pdf_paths = [\n",
        "    \"Mahmoud ElSayed CV.pdf\", \"99.pdf\",\n",
        "\n",
        "]\n",
        "\n",
        "output_file_path = \"resume_results.txt\"\n",
        "\n",
        "with open(output_file_path, 'w') as output_file:\n",
        "    for pdf_path in pdf_paths:\n",
        "        resume_info = extract_information_from_resume(pdf_path)\n",
        "        output_file.write(f\"Resume Information for {pdf_path}:\\n\")\n",
        "        output_file.write(f\"{resume_info}\\n\")\n",
        "        output_file.write(\"=\" * 50 + \"\\n\")\n",
        "\n",
        "print(f\"Results written to {output_file_path}\")\n",
        "print(\"=\" * 50)\n",
        "for pdf_path in pdf_paths:\n",
        "    resume_info = extract_information_from_resume(pdf_path)\n",
        "    print(f\"Resume Information for {pdf_path}:\")\n",
        "    print(resume_info)\n",
        "    print(\"=\" * 50)\n"
      ],
      "metadata": {
        "colab": {
          "base_uri": "https://localhost:8080/"
        },
        "id": "m76RcyjlWGDX",
        "outputId": "e07b38bd-bc97-4ec8-cf4b-5c84c876f13c"
      },
      "execution_count": 13,
      "outputs": [
        {
          "output_type": "stream",
          "name": "stdout",
          "text": [
            "Results written to resume_results.txt\n",
            "==================================================\n",
            "Resume Information for Mahmoud ElSayed CV.pdf:\n",
            "{'Full Name': 'Mahmoud El-Sayed', 'Phone Number': '01026932898', 'Email Address': 'me974931@gmail.com'}\n",
            "==================================================\n",
            "Resume Information for 99.pdf:\n",
            "{'Full Name': 'Mostafa Mahmoud', 'Phone Number': '01113755242', 'Email Address': 'ubermenchun@gmail.com'}\n",
            "==================================================\n"
          ]
        }
      ]
    }
  ]
}
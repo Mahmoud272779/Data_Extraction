{
  "cells": [
    {
      "cell_type": "code",
      "execution_count": 1,
      "metadata": {
        "colab": {
          "base_uri": "https://localhost:8080/"
        },
        "id": "Iaf3auvz3a7P",
        "outputId": "3171e28b-ec88-4ac6-9860-454b07829ab6"
      },
      "outputs": [
        {
          "name": "stdout",
          "output_type": "stream",
          "text": [
            "HTML file created at: output.html\n"
          ]
        }
      ],
      "source": [
        "import pandas as pd\n",
        "\n",
        "\n",
        "csv_file_path = '18.csv'\n",
        "df = pd.read_csv(csv_file_path)\n",
        "\n",
        "\n",
        "html_file_path = 'output.html'\n",
        "with open(html_file_path, 'w') as f:\n",
        "    f.write('<!DOCTYPE html>\\n<html>\\n<head>\\n<title>CSV Data Viewer</title>\\n</head>\\n<body>\\n')\n",
        "    f.write('<h1>CSV Data Viewer</h1>\\n')\n",
        "    f.write('<table border=\"1\">\\n')\n",
        "\n",
        "    \n",
        "    f.write('<tr>\\n')\n",
        "    for column in df.columns:\n",
        "        f.write(f'<th>{column}</th>\\n')\n",
        "    f.write('</tr>\\n')\n",
        "\n",
        "    \n",
        "    for i, row in df.iterrows():\n",
        "        f.write('<tr>\\n')\n",
        "        for value in row:\n",
        "            f.write(f'<td>{value}</td>\\n')\n",
        "        f.write('</tr>\\n')\n",
        "\n",
        "    f.write('</table>\\n</body>\\n</html>')\n",
        "\n",
        "print(f\"HTML file created at: {html_file_path}\")\n"
      ]
    }
  ],
  "metadata": {
    "colab": {
      "provenance": []
    },
    "kernelspec": {
      "display_name": "Python 3",
      "name": "python3"
    },
    "language_info": {
      "name": "python"
    }
  },
  "nbformat": 4,
  "nbformat_minor": 0
}
